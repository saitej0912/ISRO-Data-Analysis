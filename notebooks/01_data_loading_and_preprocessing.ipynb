{
 "cells": [
  {
   "cell_type": "markdown",
   "id": "90e07ac3",
   "metadata": {},
   "source": [
    "# 01: Data Loading and Preprocessing\n",
    "\n",
    "This notebook handles:\n",
    "- Loading ISRO missions and satellites datasets\n",
    "- Cleaning column names (removing hidden characters)\n",
    "- Converting date columns to datetime format\n",
    "- Adding derived columns (e.g., year)\n",
    "- Initial data inspection and validation\n"
   ]
  },
  {
   "cell_type": "code",
   "execution_count": 1,
   "id": "25d82395",
   "metadata": {},
   "outputs": [],
   "source": [
    "import pandas as pd\n",
    "\n",
    "def load_missions_data(filepath):\n",
    "    missions = pd.read_csv(filepath)\n",
    "    missions.columns = missions.columns.str.replace('\\xa0', ' ', regex=False).str.strip()\n",
    "    missions['Date'] = pd.to_datetime(missions['Date'], errors='coerce')\n",
    "    missions['year'] = missions['Date'].dt.year\n",
    "    return missions\n",
    "\n",
    "def load_satellites_data(filepath):\n",
    "    satellites = pd.read_csv(filepath)\n",
    "    satellites.columns = satellites.columns.str.strip()\n",
    "    satellites['launch_date'] = pd.to_datetime(satellites['launch_date'], errors='coerce')\n",
    "    satellites['year'] = satellites['launch_date'].dt.year\n",
    "    return satellites\n"
   ]
  },
  {
   "cell_type": "code",
   "execution_count": 2,
   "id": "f750ffbe",
   "metadata": {},
   "outputs": [
    {
     "name": "stdout",
     "output_type": "stream",
     "text": [
      "(213, 7)\n",
      "(53, 7)\n"
     ]
    },
    {
     "name": "stderr",
     "output_type": "stream",
     "text": [
      "C:\\Users\\Sai Tejeswar\\AppData\\Local\\Temp\\ipykernel_22152\\1478240982.py:13: UserWarning: Parsing dates in %d-%m-%Y format when dayfirst=False (the default) was specified. Pass `dayfirst=True` or specify a format to silence this warning.\n",
      "  satellites['launch_date'] = pd.to_datetime(satellites['launch_date'], errors='coerce')\n"
     ]
    },
    {
     "data": {
      "text/html": [
       "<div>\n",
       "<style scoped>\n",
       "    .dataframe tbody tr th:only-of-type {\n",
       "        vertical-align: middle;\n",
       "    }\n",
       "\n",
       "    .dataframe tbody tr th {\n",
       "        vertical-align: top;\n",
       "    }\n",
       "\n",
       "    .dataframe thead th {\n",
       "        text-align: right;\n",
       "    }\n",
       "</style>\n",
       "<table border=\"1\" class=\"dataframe\">\n",
       "  <thead>\n",
       "    <tr style=\"text-align: right;\">\n",
       "      <th></th>\n",
       "      <th>Rank</th>\n",
       "      <th>Name</th>\n",
       "      <th>Date</th>\n",
       "      <th>launch vehicle</th>\n",
       "      <th>Application</th>\n",
       "      <th>orbital  type</th>\n",
       "      <th>year</th>\n",
       "    </tr>\n",
       "  </thead>\n",
       "  <tbody>\n",
       "    <tr>\n",
       "      <th>0</th>\n",
       "      <td>1</td>\n",
       "      <td>Aryabhata</td>\n",
       "      <td>1975-04-19</td>\n",
       "      <td>C-1 Intercosmos</td>\n",
       "      <td>Experimental</td>\n",
       "      <td>NaN</td>\n",
       "      <td>1975</td>\n",
       "    </tr>\n",
       "    <tr>\n",
       "      <th>1</th>\n",
       "      <td>2</td>\n",
       "      <td>Bhaskara-I</td>\n",
       "      <td>1979-06-07</td>\n",
       "      <td>C-1Intercosmos</td>\n",
       "      <td>Earth Observation, Experimental</td>\n",
       "      <td>LEO</td>\n",
       "      <td>1979</td>\n",
       "    </tr>\n",
       "    <tr>\n",
       "      <th>2</th>\n",
       "      <td>3</td>\n",
       "      <td>Rohini Technology Payload (RTP)</td>\n",
       "      <td>1979-08-10</td>\n",
       "      <td>SLV-3E1</td>\n",
       "      <td>NaN</td>\n",
       "      <td>NaN</td>\n",
       "      <td>1979</td>\n",
       "    </tr>\n",
       "    <tr>\n",
       "      <th>3</th>\n",
       "      <td>4</td>\n",
       "      <td>SLV-3E1</td>\n",
       "      <td>1979-08-10</td>\n",
       "      <td>Rohini Technology Payload (RTP)</td>\n",
       "      <td>Partially Successful</td>\n",
       "      <td>NaN</td>\n",
       "      <td>1979</td>\n",
       "    </tr>\n",
       "    <tr>\n",
       "      <th>4</th>\n",
       "      <td>5</td>\n",
       "      <td>Rohini Satellite RS-1</td>\n",
       "      <td>1980-07-18</td>\n",
       "      <td>SLV-3E2</td>\n",
       "      <td>NaN</td>\n",
       "      <td>NaN</td>\n",
       "      <td>1980</td>\n",
       "    </tr>\n",
       "  </tbody>\n",
       "</table>\n",
       "</div>"
      ],
      "text/plain": [
       "   Rank                             Name       Date  \\\n",
       "0     1                        Aryabhata 1975-04-19   \n",
       "1     2                       Bhaskara-I 1979-06-07   \n",
       "2     3  Rohini Technology Payload (RTP) 1979-08-10   \n",
       "3     4                          SLV-3E1 1979-08-10   \n",
       "4     5            Rohini Satellite RS-1 1980-07-18   \n",
       "\n",
       "                    launch vehicle                      Application  \\\n",
       "0                  C-1 Intercosmos                     Experimental   \n",
       "1                   C-1Intercosmos  Earth Observation, Experimental   \n",
       "2                          SLV-3E1                              NaN   \n",
       "3  Rohini Technology Payload (RTP)             Partially Successful   \n",
       "4                          SLV-3E2                              NaN   \n",
       "\n",
       "  orbital  type  year  \n",
       "0           NaN  1975  \n",
       "1           LEO  1979  \n",
       "2           NaN  1979  \n",
       "3           NaN  1979  \n",
       "4           NaN  1980  "
      ]
     },
     "execution_count": 2,
     "metadata": {},
     "output_type": "execute_result"
    }
   ],
   "source": [
    "missions = load_missions_data('../data/ISRO missions - till AUGUST 2022.csv')\n",
    "satellites = load_satellites_data('../data/satellites.csv')\n",
    "\n",
    "print(missions.shape)\n",
    "print(satellites.shape)\n",
    "missions.head()\n"
   ]
  }
 ],
 "metadata": {
  "kernelspec": {
   "display_name": "isro-env",
   "language": "python",
   "name": "python3"
  },
  "language_info": {
   "codemirror_mode": {
    "name": "ipython",
    "version": 3
   },
   "file_extension": ".py",
   "mimetype": "text/x-python",
   "name": "python",
   "nbconvert_exporter": "python",
   "pygments_lexer": "ipython3",
   "version": "3.11.14"
  }
 },
 "nbformat": 4,
 "nbformat_minor": 5
}
