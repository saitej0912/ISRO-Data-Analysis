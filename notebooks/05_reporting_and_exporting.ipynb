{
 "cells": [
  {
   "cell_type": "markdown",
   "id": "50b48135",
   "metadata": {},
   "source": [
    "# Reporting and Exporting\n",
    "\n",
    "- Generate summary reports and export charts as files\n",
    "- Save key findings, success rates, and visuals\n"
   ]
  },
  {
   "cell_type": "code",
   "execution_count": 1,
   "id": "726132ab",
   "metadata": {},
   "outputs": [],
   "source": [
    "import os\n"
   ]
  },
  {
   "cell_type": "code",
   "execution_count": 2,
   "id": "50282d43",
   "metadata": {},
   "outputs": [],
   "source": [
    "os.makedirs('../notebooks/outputs/figures', exist_ok=True)\n",
    "os.makedirs('../notebooks/outputs/reports', exist_ok=True)\n"
   ]
  },
  {
   "cell_type": "code",
   "execution_count": 3,
   "id": "4351c610",
   "metadata": {},
   "outputs": [],
   "source": [
    "def write_report(text, filepath):\n",
    "    with open(filepath, 'w') as f:\n",
    "        f.write(text)\n",
    "    print(f\"Report saved to {filepath}\")\n"
   ]
  },
  {
   "cell_type": "code",
   "execution_count": 4,
   "id": "9e4522eb",
   "metadata": {},
   "outputs": [],
   "source": [
    "def save_figure(fig, filename):\n",
    "    fig.savefig(filename)\n",
    "    print(f\"Figure saved to {filename}\")\n"
   ]
  },
  {
   "cell_type": "code",
   "execution_count": 5,
   "id": "562dd38f",
   "metadata": {},
   "outputs": [
    {
     "name": "stdout",
     "output_type": "stream",
     "text": [
      "Report saved to ../notebooks/outputs/reports/mission_success_summary.txt\n"
     ]
    }
   ],
   "source": [
    "summary_text = \"\"\"\n",
    "ISRO Mission Success Summary\n",
    "\n",
    "Total Missions: 100\n",
    "Successful: 80\n",
    "Partial/Failure: 20\n",
    "\"\"\"\n",
    "\n",
    "write_report(summary_text, '../notebooks/outputs/reports/mission_success_summary.txt')\n"
   ]
  },
  {
   "cell_type": "code",
   "execution_count": 6,
   "id": "2cc6d742",
   "metadata": {},
   "outputs": [
    {
     "name": "stdout",
     "output_type": "stream",
     "text": [
      "Figure saved to ../notebooks/outputs/figures/mission_success_summary.png\n"
     ]
    },
    {
     "data": {
      "image/png": "[encoded data removed]",
      "text/plain": [
       "<Figure size 640x480 with 1 Axes>"
      ]
     },
     "metadata": {},
     "output_type": "display_data"
    }
   ],
   "source": [
    "import matplotlib.pyplot as plt\n",
    "\n",
    "fig, ax = plt.subplots()\n",
    "ax.bar(['Success', 'Failure'], [80, 20])\n",
    "ax.set_title('Mission Success Summary')\n",
    "\n",
    "save_figure(fig, '../notebooks/outputs/figures/mission_success_summary.png')\n"
   ]
  }
 ],
 "metadata": {
  "kernelspec": {
   "display_name": "isro-env",
   "language": "python",
   "name": "python3"
  },
  "language_info": {
   "codemirror_mode": {
    "name": "ipython",
    "version": 3
   },
   "file_extension": ".py",
   "mimetype": "text/x-python",
   "name": "python",
   "nbconvert_exporter": "python",
   "pygments_lexer": "ipython3",
   "version": "3.11.14"
  }
 },
 "nbformat": 4,
 "nbformat_minor": 5
}
