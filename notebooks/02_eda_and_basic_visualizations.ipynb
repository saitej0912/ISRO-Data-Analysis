{
 "cells": [
  {
   "cell_type": "markdown",
   "id": "2c1f05ab",
   "metadata": {},
   "source": [
    "# Exploratory Data Analysis and Basic Visualizations\n",
    "\n",
    "- Summary statistics and counts\n",
    "- Plots for launches per year, satellite mass distribution, country-wise launches\n"
   ]
  },
  {
   "cell_type": "code",
   "execution_count": null,
   "id": "040bec61",
   "metadata": {},
   "outputs": [],
   "source": [
    "import pandas as pd\n",
    "import matplotlib.pyplot as plt\n"
   ]
  },
  {
   "cell_type": "code",
   "execution_count": null,
   "id": "d6767ae9",
   "metadata": {},
   "outputs": [],
   "source": [
    "missions = pd.read_csv('../data/ISRO missions - till AUGUST 2022.csv')\n",
    "satellites = pd.read_csv('../data/satellites.csv')\n",
    "\n",
    "# Convert date columns if needed:\n",
    "missions['Date'] = pd.to_datetime(missions['Date'], errors='coerce')\n",
    "satellites['launch_date'] = pd.to_datetime(satellites['launch_date'], errors='coerce')\n"
   ]
  },
  {
   "cell_type": "code",
   "execution_count": null,
   "id": "eb5f4fa3",
   "metadata": {},
   "outputs": [],
   "source": [
    "print(\"Basic statistics (missions):\")\n",
    "print(missions.describe())\n",
    "\n",
    "print(\"Basic statistics (satellites):\")\n",
    "print(satellites.describe())\n",
    "\n",
    "print(\"Missing values (missions):\")\n",
    "print(missions.isnull().sum())\n",
    "\n",
    "print(\"Missing values (satellites):\")\n",
    "print(satellites.isnull().sum())\n"
   ]
  },
  {
   "cell_type": "code",
   "execution_count": null,
   "id": "cc7f3d71",
   "metadata": {},
   "outputs": [],
   "source": [
    "plt.figure(figsize=(10,5))\n",
    "satellites['mass'].dropna().hist(bins=30)\n",
    "plt.title('Satellite Mass Distribution')\n",
    "plt.xlabel('Mass (kg)')\n",
    "plt.ylabel('Frequency')\n",
    "plt.show()\n"
   ]
  },
  {
   "cell_type": "code",
   "execution_count": null,
   "id": "7ea1346b",
   "metadata": {},
   "outputs": [],
   "source": [
    "country_counts = satellites['country'].value_counts()\n",
    "plt.figure(figsize=(12,6))\n",
    "country_counts.plot(kind='bar')\n",
    "plt.title('Number of Satellites per Country')\n",
    "plt.xlabel('Country')\n",
    "plt.ylabel('Number of Satellites')\n",
    "plt.xticks(rotation=45)\n",
    "plt.show()\n"
   ]
  },
  {
   "cell_type": "code",
   "execution_count": null,
   "id": "7a144f5b",
   "metadata": {},
   "outputs": [],
   "source": [
    "missions_per_year = missions['year'].value_counts().sort_index()\n",
    "plt.figure(figsize=(10,5))\n",
    "missions_per_year.plot(kind='bar')\n",
    "plt.title('Missions Launched Per Year')\n",
    "plt.xlabel('Year')\n",
    "plt.ylabel('Missions')\n",
    "plt.show()\n"
   ]
  }
 ],
 "metadata": {
  "kernelspec": {
   "display_name": "isro-env",
   "language": "python",
   "name": "python3"
  },
  "language_info": {
   "codemirror_mode": {
    "name": "ipython",
    "version": 3
   },
   "file_extension": ".py",
   "mimetype": "text/x-python",
   "name": "python",
   "nbconvert_exporter": "python",
   "pygments_lexer": "ipython3",
   "version": "3.11.14"
  }
 },
 "nbformat": 4,
 "nbformat_minor": 5
}
