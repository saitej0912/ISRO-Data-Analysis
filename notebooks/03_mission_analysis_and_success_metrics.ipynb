{
 "cells": [
  {
   "cell_type": "markdown",
   "id": "643c8f3c",
   "metadata": {},
   "source": [
    "# Mission Analysis and Success Metrics\n",
    "\n",
    "- Analyze mission success based on application/status heuristics\n",
    "- Orbital type distribution and trends\n"
   ]
  },
  {
   "cell_type": "code",
   "execution_count": 1,
   "id": "86aea936",
   "metadata": {},
   "outputs": [],
   "source": [
    "import pandas as pd\n",
    "\n",
    "missions = pd.read_csv('../data/ISRO missions - till AUGUST 2022.csv')\n",
    "missions['Date'] = pd.to_datetime(missions['Date'], errors='coerce')\n",
    "missions['year'] = missions['Date'].dt.year\n"
   ]
  },
  {
   "cell_type": "code",
   "execution_count": 5,
   "id": "357167e9",
   "metadata": {},
   "outputs": [],
   "source": [
    "missions.columns = missions.columns.str.replace('\\xa0', ' ', regex=False).str.strip()\n"
   ]
  },
  {
   "cell_type": "code",
   "execution_count": 6,
   "id": "6e28473a",
   "metadata": {},
   "outputs": [
    {
     "name": "stdout",
     "output_type": "stream",
     "text": [
      "mission_status\n",
      "Success            212\n",
      "Partial/Failure      1\n",
      "Name: count, dtype: int64\n"
     ]
    }
   ],
   "source": [
    "def mission_success(application):\n",
    "    if isinstance(application, str) and 'partially successful' in application.lower():\n",
    "        return 'Partial/Failure'\n",
    "    else:\n",
    "        return 'Success'\n",
    "\n",
    "missions['mission_status'] = missions['Application'].apply(mission_success)\n",
    "status_counts = missions['mission_status'].value_counts()\n",
    "print(status_counts)\n"
   ]
  }
 ],
 "metadata": {
  "kernelspec": {
   "display_name": "isro-env",
   "language": "python",
   "name": "python3"
  },
  "language_info": {
   "codemirror_mode": {
    "name": "ipython",
    "version": 3
   },
   "file_extension": ".py",
   "mimetype": "text/x-python",
   "name": "python",
   "nbconvert_exporter": "python",
   "pygments_lexer": "ipython3",
   "version": "3.11.14"
  }
 },
 "nbformat": 4,
 "nbformat_minor": 5
}
